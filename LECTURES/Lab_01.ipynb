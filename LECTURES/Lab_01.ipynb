{
  "cells": [
    {
      "cell_type": "markdown",
      "source": [
        "#00. Basic Introduction to Python:\n",
        "\n",
        "Python variable types, conversion, loops, data structures e.t.c"
      ],
      "metadata": {
        "id": "IOoxWsM5X7aS"
      }
    },
    {
      "cell_type": "markdown",
      "source": [
        "We will mostly be handelling these five types of variables:"
      ],
      "metadata": {
        "id": "7eZLg1-LY9Fn"
      }
    },
    {
      "cell_type": "code",
      "source": [
        "a = 1       # integer\n",
        "print(a,' ', 'type:', type(a))\n",
        "b = 1.1     # float or double\n",
        "print(b,' ', 'type:', type(b))\n",
        "c = 1 + 2j  # complex number (a + bi)\n",
        "print(c,' ', 'type:', type(c))\n",
        "d = \"a\"     # string\n",
        "print(d,' ', 'type:', type(d))\n",
        "e = True    # boolean (True / False)\n",
        "print(e,' ', 'type:', type(e))"
      ],
      "metadata": {
        "colab": {
          "base_uri": "https://localhost:8080/"
        },
        "id": "uDc-Toc5YQCf",
        "outputId": "62cc9c5b-4761-4a6c-89e5-f772c62fc09e"
      },
      "execution_count": null,
      "outputs": [
        {
          "output_type": "stream",
          "name": "stdout",
          "text": [
            "1   type: <class 'int'>\n",
            "1.1   type: <class 'float'>\n",
            "(1+2j)   type: <class 'complex'>\n",
            "a   type: <class 'str'>\n",
            "True   type: <class 'bool'>\n"
          ]
        }
      ]
    },
    {
      "cell_type": "markdown",
      "source": [
        "We can convert from one variable type to another in this way:"
      ],
      "metadata": {
        "id": "j69XcWsIZOV0"
      }
    },
    {
      "cell_type": "code",
      "source": [
        "print(b, ' ', 'Initial type:', type(b))\n",
        "f = int(b)  #converting float to integer\n",
        "print(f, ' ', 'Final type:', type(f))\n",
        "\n",
        "#Same can be done using float(), complex(), str() and bool()"
      ],
      "metadata": {
        "colab": {
          "base_uri": "https://localhost:8080/"
        },
        "id": "HnkPesD_ZLBf",
        "outputId": "8e1de3a3-7ece-40a1-8a24-6516319f4038"
      },
      "execution_count": null,
      "outputs": [
        {
          "output_type": "stream",
          "name": "stdout",
          "text": [
            "1.1   Initial type: <class 'float'>\n",
            "1   Final type: <class 'int'>\n"
          ]
        }
      ]
    },
    {
      "cell_type": "markdown",
      "source": [
        "We can arrange different types of data in data structures that can be efficiently accessed depending on the situation."
      ],
      "metadata": {
        "id": "_63--EiJatGX"
      }
    },
    {
      "cell_type": "code",
      "source": [
        "#STRINGS\n",
        "x = \"Python\"\n",
        "print('Print element in index 0: ', x[0])\n",
        "print('Print element from the last index: ', x[-1])\n",
        "print('Print elements from index 0 till index 3: ', x[0:3])\n",
        "print('Print all elements but in reverse order: ', x[::-1])\n",
        "\n",
        "print('Length of string x: ', len(x))\n",
        "print('All capital: ', x.upper())\n",
        "print('Is z present?: ', x.find(\"z\"))\n",
        "print('Is y present?: ', x.find(\"y\"))\n"
      ],
      "metadata": {
        "colab": {
          "base_uri": "https://localhost:8080/"
        },
        "id": "KCZaZMd2bG6Z",
        "outputId": "b9b684f1-44e3-4ba8-950f-dde12a595a46"
      },
      "execution_count": null,
      "outputs": [
        {
          "output_type": "stream",
          "name": "stdout",
          "text": [
            "Print element in index 0:  P\n",
            "Print element from the last index:  n\n",
            "Print elements from index 0 till index 3:  Pyt\n",
            "Print all elements but in reverse order:  nohtyP\n",
            "Length of string x:  6\n",
            "All capital:  PYTHON\n",
            "Is z present?:  -1\n",
            "Is y present?:  1\n"
          ]
        }
      ]
    },
    {
      "cell_type": "code",
      "source": [
        "#LISTS (Similar to Vectors in C++)\n",
        "letters = [\"a\", \"b\", \"c\", \"d\", \"e\"]\n",
        "\n",
        "print('Print elements from index 0 till 3: ', letters[0:3])\n",
        "print('Print elements from start till index 3: ', letters[:3] )\n",
        "print('Print all elements from index 1: ', letters[1:])\n",
        "print('Print entire list:', letters[:])\n",
        "print('Print elements skipping one index each time: ', letters[::2])\n",
        "print('Print all elements in reverse order: ', letters[::-1])\n",
        "\n",
        "letters.append('420') #You can append new elements to the list!\n",
        "print('Print new list: ', letters)"
      ],
      "metadata": {
        "colab": {
          "base_uri": "https://localhost:8080/"
        },
        "id": "lYXlCibIY50U",
        "outputId": "f7751037-9ac3-4b8b-bbda-62e1db85a2d3"
      },
      "execution_count": null,
      "outputs": [
        {
          "output_type": "stream",
          "name": "stdout",
          "text": [
            "Print elements from index 0 till 3:  ['a', 'b', 'c']\n",
            "Print elements from start till index 3:  ['a', 'b', 'c']\n",
            "Print all elements from index 1:  ['b', 'c', 'd', 'e']\n",
            "Print entire list: ['a', 'b', 'c', 'd', 'e']\n",
            "Print elements skipping one index each time:  ['a', 'c', 'e']\n",
            "Print all elements in reverse order:  ['e', 'd', 'c', 'b', 'a']\n",
            "Print new list:  ['a', 'b', 'c', 'd', 'e', 420]\n"
          ]
        }
      ]
    },
    {
      "cell_type": "code",
      "source": [
        "#TUPLE (Like Lists but its immutable)\n",
        "\n",
        "thistuple = (\"apple\", \"banana\", \"cherry\")   #You will not be able to add or remove any elements as it is immutable.\n",
        "\n",
        "print('Print tuple: ', thistuple)\n",
        "print('Print element of index 1: ', thistuple[1])"
      ],
      "metadata": {
        "colab": {
          "base_uri": "https://localhost:8080/"
        },
        "id": "-z8vudPGehkq",
        "outputId": "9cebbb93-3a80-492c-85d7-f25346c5a2c3"
      },
      "execution_count": null,
      "outputs": [
        {
          "output_type": "stream",
          "name": "stdout",
          "text": [
            "Print tuple:  ('apple', 'banana', 'cherry')\n",
            "Print element of index 1:  banana\n"
          ]
        }
      ]
    },
    {
      "cell_type": "code",
      "source": [
        "#SET\n",
        "thisset = {\"apple\", \"banana\", \"cherry\", \"apple\"}\n",
        "print('Notice that repeated elements (apple) will not be printed twice', thisset)\n",
        "\n",
        "thisset.add('orange')\n",
        "print('Notice that new element is positioned randomly and it is not ordered', thisset)\n",
        "\n",
        "#You can not replace any element\n",
        "#thisset[1] = 'pineapple' will give a type error"
      ],
      "metadata": {
        "colab": {
          "base_uri": "https://localhost:8080/"
        },
        "id": "Ei57kidGf54F",
        "outputId": "3a4d8408-30e6-4309-d516-89e1bb351c20"
      },
      "execution_count": null,
      "outputs": [
        {
          "output_type": "stream",
          "name": "stdout",
          "text": [
            "Notice that repeated elements (apple) will not be printed twice {'cherry', 'banana', 'apple'}\n",
            "Notice that new element is positioned randomly and it is not ordered {'orange', 'cherry', 'banana', 'apple'}\n"
          ]
        }
      ]
    },
    {
      "cell_type": "code",
      "source": [
        "#DICTIONARY (Like a map)\n",
        "thisdict = {\n",
        "  \"brand\": \"Ford\",\n",
        "  \"model\": \"Mustang\",\n",
        "  \"year\": 1964\n",
        "}\n",
        "print(thisdict)\n",
        "\n",
        "#Calling elements using key:\n",
        "print(thisdict[\"brand\"])\n",
        "#Calling elements using get():\n",
        "print(thisdict.get(\"year\"))"
      ],
      "metadata": {
        "colab": {
          "base_uri": "https://localhost:8080/"
        },
        "id": "TXwcx21vjaqm",
        "outputId": "ea4c67af-619c-4c80-dab2-733b9b4b1055"
      },
      "execution_count": null,
      "outputs": [
        {
          "output_type": "stream",
          "name": "stdout",
          "text": [
            "{'brand': 'Ford', 'model': 'Mustang', 'year': 1964}\n",
            "Ford\n",
            "1964\n"
          ]
        }
      ]
    },
    {
      "cell_type": "markdown",
      "source": [
        "We can use loops (for/while) to traverse data sets."
      ],
      "metadata": {
        "id": "45FjVqBQlGvG"
      }
    },
    {
      "cell_type": "code",
      "source": [
        "newset = {'apple', 23, 1.52, 'Mercedes'}\n",
        "\n",
        "for i in newset:\n",
        "  print(i, end=\" \")\n",
        "\n",
        "print('Printing odd numbers from 0 to 20')\n",
        "x = 1\n",
        "while(x <= 20):\n",
        "  print(x, end=' ')\n",
        "  x += 2"
      ],
      "metadata": {
        "colab": {
          "base_uri": "https://localhost:8080/"
        },
        "id": "AJhLU4oelNbd",
        "outputId": "97b91f72-8eab-40be-8473-251843b09a3f"
      },
      "execution_count": null,
      "outputs": [
        {
          "output_type": "stream",
          "name": "stdout",
          "text": [
            "1.52 Mercedes 23 apple Printing odd numbers from 0 to 20\n",
            "1 3 5 7 9 11 13 15 17 19 "
          ]
        }
      ]
    },
    {
      "cell_type": "markdown",
      "source": [
        "We can use conditional statements (if/else) to filter or search data."
      ],
      "metadata": {
        "id": "y9Cw_pR1kmXP"
      }
    },
    {
      "cell_type": "code",
      "source": [
        "for i in newset:\n",
        "  if i == 'Mercedes':\n",
        "    print('Item found')\n"
      ],
      "metadata": {
        "colab": {
          "base_uri": "https://localhost:8080/"
        },
        "id": "jlxv3yuIkw0M",
        "outputId": "f4941ba4-7590-4caf-cec7-8d63999b8314"
      },
      "execution_count": null,
      "outputs": [
        {
          "output_type": "stream",
          "name": "stdout",
          "text": [
            "Item found\n"
          ]
        }
      ]
    },
    {
      "cell_type": "markdown",
      "source": [
        "#01. Functions:\n",
        "\n",
        "You can create functions with arbitrary number of arguments that can undergo operation according to how you define it.  "
      ],
      "metadata": {
        "id": "dl4SYMdJpUIH"
      }
    },
    {
      "cell_type": "code",
      "source": [
        "def CheckLargestValue(a,b):\n",
        "  print('Your inputs:')\n",
        "  print('a =', a, 'b =', b)\n",
        "\n",
        "  if a > b:\n",
        "    print(a, 'is larger than ', b)\n",
        "  if b > a:\n",
        "    print(b, 'is larger than', a)\n",
        "  else:\n",
        "    print('Equal values')\n",
        "\n",
        "a = 3\n",
        "b = 3\n",
        "CheckLargestValue(a,b)\n",
        "\n",
        "print('')\n",
        "\n",
        "a = 3\n",
        "b = 8.5\n",
        "CheckLargestValue(a,b)"
      ],
      "metadata": {
        "colab": {
          "base_uri": "https://localhost:8080/"
        },
        "id": "KzSsK6YTpWdO",
        "outputId": "43167e74-114f-42cb-94ef-84b79bb001b4"
      },
      "execution_count": null,
      "outputs": [
        {
          "output_type": "stream",
          "name": "stdout",
          "text": [
            "Your inputs:\n",
            "a = 3 b = 3\n",
            "Equal values\n",
            "\n",
            "Your inputs:\n",
            "a = 3 b = 8.5\n",
            "8.5 is larger than 3\n"
          ]
        }
      ]
    },
    {
      "cell_type": "code",
      "source": [
        "#LAMBDA Functions:\n",
        "#These are functions without a name to define it. It works in the same way as normal functions do.\n",
        "\n",
        "f = lambda x: x**2 + 2*x - 4\n",
        "print(f(2))\n",
        "\n",
        "str = \"a,b,c,d,e\"\n",
        "func = lambda string: string.upper()\n",
        "\n",
        "print(func(str))"
      ],
      "metadata": {
        "colab": {
          "base_uri": "https://localhost:8080/"
        },
        "id": "En1CriE3sLqS",
        "outputId": "61b220b1-d143-4a9a-b8e6-98ecee4f15c5"
      },
      "execution_count": null,
      "outputs": [
        {
          "output_type": "stream",
          "name": "stdout",
          "text": [
            "4\n",
            "A,B,C,D,E\n"
          ]
        }
      ]
    },
    {
      "cell_type": "markdown",
      "metadata": {
        "id": "SSKc5U4f-hq4"
      },
      "source": [
        "#02. Introduction to sympy package and some of its uses.\n",
        "\n",
        "Import and make symbolic expressions."
      ]
    },
    {
      "cell_type": "code",
      "execution_count": null,
      "metadata": {
        "colab": {
          "base_uri": "https://localhost:8080/"
        },
        "id": "_l7YqGdy_ZPu",
        "outputId": "2fcbe4bf-fbdd-4af1-c882-35db883c76ec"
      },
      "outputs": [
        {
          "output_type": "stream",
          "name": "stdout",
          "text": [
            "f(x) = x**2 + x + 1\n",
            "g(a,b,c) = a**2/2 + 3*b - c/a\n"
          ]
        }
      ],
      "source": [
        "#importing sympy package\n",
        "from sympy import*\n",
        "\n",
        "#single symbol\n",
        "x = Symbol('x')\n",
        "f = x**2 + x + 1\n",
        "print(\"f(x) =\", f)\n",
        "\n",
        "#multiple symbols\n",
        "a,b,c = symbols('a,b,c')\n",
        "g = a**2/2 + 3*b - c/a\n",
        "print(\"g(a,b,c) =\", g)"
      ]
    },
    {
      "cell_type": "code",
      "execution_count": null,
      "metadata": {
        "colab": {
          "base_uri": "https://localhost:8080/",
          "height": 120
        },
        "id": "5nhwPhzqDSLm",
        "outputId": "8cc5ec15-3e22-42cb-ae14-f38e24972ca5"
      },
      "outputs": [
        {
          "output_type": "stream",
          "name": "stdout",
          "text": [
            "2*sqrt(3)\n",
            "3.4641016151377544\n",
            "3.46\n",
            "3900231685776981/1125899906842624\n"
          ]
        },
        {
          "output_type": "execute_result",
          "data": {
            "text/plain": [
              "336/97"
            ],
            "text/latex": "$\\displaystyle \\frac{336}{97}$"
          },
          "metadata": {},
          "execution_count": 81
        }
      ],
      "source": [
        "#square roots, rational, Float e.t.c\n",
        "\n",
        "print(sqrt(12))\n",
        "\n",
        "#import math for getting floating point value for square roots\n",
        "import math\n",
        "print(math.sqrt(12))\n",
        "\n",
        "#We can choose the precision of floating point value using 'Float(value , precision)'\n",
        "w = math.sqrt(12)\n",
        "print(Float(w, 3))\n",
        "\n",
        "#We can also convert floating point values into rational expressions\n",
        "print(Rational(w))\n",
        "s = Rational(w).limit_denominator(100) #This gives the closes approximation with denominator less than 100\n",
        "s\n",
        "\n"
      ]
    },
    {
      "cell_type": "code",
      "execution_count": null,
      "metadata": {
        "colab": {
          "base_uri": "https://localhost:8080/"
        },
        "id": "lz9zZjkNHPPI",
        "outputId": "a9fdd561-6e4c-40a7-8da6-8cf8b56a6721"
      },
      "outputs": [
        {
          "output_type": "stream",
          "name": "stdout",
          "text": [
            "7\n",
            "a**2 + a + 1\n",
            "sin(b)**2 + 3*cos(b) + tan(b)\n",
            "9.75\n"
          ]
        }
      ],
      "source": [
        "#substitution, trigonometric expressions e.t.c\n",
        "\n",
        "print(f.subs(x,2)) #this substitutes a value in place of x\n",
        "h = f.subs(x,a) #this substitutes another symbol 'a' in place of x\n",
        "print(h)\n",
        "\n",
        "t = sin(b)**2 + 3*cos(b) + tan(b) # you can write trigonometric expressions as well\n",
        "print(t)\n",
        "\n",
        "print(f.evalf(3, subs={x:2.5})) #here evalf evaluates the function for given value upto any precision. evalf(precision, subs={symbol:value})\n"
      ]
    },
    {
      "cell_type": "code",
      "execution_count": null,
      "metadata": {
        "colab": {
          "base_uri": "https://localhost:8080/"
        },
        "id": "N607VVHMNyAV",
        "outputId": "0ebd0a12-3763-4b21-f44c-a1a1e58356b1"
      },
      "outputs": [
        {
          "output_type": "execute_result",
          "data": {
            "text/plain": [
              "7.058333333333335"
            ]
          },
          "metadata": {},
          "execution_count": 83
        }
      ],
      "source": [
        "#Lambdify: This function can be used to convert a sympy expression to a python expression\n",
        "k = lambdify([a,b,c], g)\n",
        "k(1.5,3.2,5.5)"
      ]
    },
    {
      "cell_type": "markdown",
      "metadata": {
        "id": "Ay8c480ygVGd"
      },
      "source": [
        "#03. Plotting graphs\n",
        "We can plot graphs using a package known as matplotlib.pyplot."
      ]
    },
    {
      "cell_type": "code",
      "execution_count": null,
      "metadata": {
        "id": "tmVbMBxkgXir",
        "colab": {
          "base_uri": "https://localhost:8080/",
          "height": 311
        },
        "outputId": "f532c1a6-ba83-4d50-9531-4f8479d98d67"
      },
      "outputs": [
        {
          "output_type": "display_data",
          "data": {
            "text/plain": [
              "<Figure size 500x300 with 1 Axes>"
            ],
            "image/png": "[encoded data removed]"
          },
          "metadata": {}
        }
      ],
      "source": [
        "import matplotlib.pyplot as plt\n",
        "import numpy as np\n",
        "\n",
        "#Function from which we get the values for the y-axis\n",
        "def y(x, a):\n",
        "  b, c, d = 1, 2, 3\n",
        "  y = a * x**3 + b * x**2 + (c/2) * x - d\n",
        "  return y\n",
        "#We can create a domain using linspace or arange from numpy.\n",
        "\n",
        "x = np.linspace(0,100,50)\n",
        "#or x = np.arange(0,100,2)\n",
        "\n",
        "f = plt.figure(figsize=(5,3))\n",
        "plt.plot(x, y(x,1), 'r-', label='$a=1$')\n",
        "plt.plot(x, y(x,2), 'g-', label='$a=2$')\n",
        "plt.plot(x, y(x,3), 'b-', label='$a=3$')\n",
        "plt.xlabel('x [m]')\n",
        "plt.ylabel('y = $ax^3+bx^2+\\\\frac{c}{2}x-d$ [m]')\n",
        "plt.grid()\n",
        "plt.legend()\n",
        "plt.yscale('log')"
      ]
    },
    {
      "cell_type": "markdown",
      "source": [
        "#04. For Practice\n",
        "\n",
        "You are tasked with creating a Python program that performs the following tasks:\n",
        "\n",
        "1.   Define a symbolic expression expr in terms of a single variable for the function $f(x) = \\sin{x}$.\n",
        "2.   Evaluate the expression expr for $x = \\frac{\\pi}{5}$(i.e $f(\\frac{\\pi}{5})$).\n",
        "3. Plot the expression expr over $-2\\pi \\leq x \\leq 2\\pi$."
      ],
      "metadata": {
        "id": "en3CIYbC6wEO"
      }
    }
  ],
  "metadata": {
    "colab": {
      "provenance": []
    },
    "kernelspec": {
      "display_name": "Python 3",
      "name": "python3"
    },
    "language_info": {
      "name": "python"
    }
  },
  "nbformat": 4,
  "nbformat_minor": 0
}