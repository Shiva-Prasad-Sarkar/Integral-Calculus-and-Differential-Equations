{
  "nbformat": 4,
  "nbformat_minor": 0,
  "metadata": {
    "colab": {
      "provenance": []
    },
    "kernelspec": {
      "name": "python3",
      "display_name": "Python 3"
    },
    "language_info": {
      "name": "python"
    }
  },
  "cells": [
    {
      "cell_type": "code",
      "source": [
        "import sympy as smp\n",
        "import numpy as np\n",
        "import matplotlib.pyplot as plt"
      ],
      "metadata": {
        "id": "huTyLImBA7Pa"
      },
      "execution_count": null,
      "outputs": []
    },
    {
      "cell_type": "code",
      "source": [
        "x = smp.symbols('x')  #A common symbol declared here."
      ],
      "metadata": {
        "id": "bm4G96x2T85B"
      },
      "execution_count": null,
      "outputs": []
    },
    {
      "cell_type": "markdown",
      "source": [
        "#01. Finding roots of equation"
      ],
      "metadata": {
        "id": "w79cpfaXSoYU"
      }
    },
    {
      "cell_type": "code",
      "execution_count": null,
      "metadata": {
        "id": "Dj_0SsJXSXCC",
        "colab": {
          "base_uri": "https://localhost:8080/"
        },
        "outputId": "8713513f-94f0-4d7b-b7e4-c6d681e4bbab"
      },
      "outputs": [
        {
          "output_type": "stream",
          "name": "stdout",
          "text": [
            "The root is  2.0\n"
          ]
        }
      ],
      "source": [
        "#BISECTION METHOD\n",
        "\n",
        "#A very small number:\n",
        "eps = 1e-3\n",
        "\n",
        "def bisection(expr,a,b):\n",
        "  #Check for wrong input:\n",
        "  if expr.subs(x,a)*expr.subs(x,b) >= 0:\n",
        "    print(\"Invalid values.\")\n",
        "\n",
        "  else:\n",
        "    while (b-a) >= eps:\n",
        "      #Find the midpoint of a and b:\n",
        "      x0 = (a+b)/2\n",
        "      #set condition to see if root lies left or right\n",
        "      if expr.subs(x,a)*expr.subs(x,x0) < 0:\n",
        "        b = x0\n",
        "      elif expr.subs(x,b)*expr.subs(x,x0) < 0:\n",
        "        a = x0\n",
        "      else:\n",
        "        print(\"The root is \", x0)\n",
        "        return\n",
        "\n",
        "\n",
        "\n",
        "f = x**2 - 4\n",
        "a = 0\n",
        "b = 8\n",
        "\n",
        "bisection(f,a,b)"
      ]
    },
    {
      "cell_type": "code",
      "source": [
        "#NEWTON's METHOD\n",
        "\n",
        "def NM(f, x0):\n",
        "\n",
        "  df = smp.diff(f, x)\n",
        "  while abs(f.subs(x,x0)) >= eps:\n",
        "    r = f.subs(x,x0)/(df.subs(x,x0))  #As r becomes really small, we eventually approach our solution.\n",
        "    x0 -= r\n",
        "    #print(x0) #Remove comment to see all the values explicitly\n",
        "  return(x0)\n",
        "\n",
        "f = x**2 - 4\n",
        "x0 = 5\n",
        "sol = NM(f, x0)\n",
        "print('Solution is, x = ', sol.evalf(3))\n"
      ],
      "metadata": {
        "id": "rPidNx6N9Ib3",
        "colab": {
          "base_uri": "https://localhost:8080/"
        },
        "outputId": "8f8b8ccf-51cc-4aeb-a3d1-1cbea8286a96"
      },
      "execution_count": null,
      "outputs": [
        {
          "output_type": "stream",
          "name": "stdout",
          "text": [
            "Solution is, x =  2.00\n"
          ]
        }
      ]
    },
    {
      "cell_type": "code",
      "source": [
        "from sympy.core.singleton import S\n",
        "#solve() and solveset()\n",
        "\n",
        "f = x**2 + x - 2\n",
        "sol = smp.solve(f,x)   #This will take f(x) = 0 and return the solutions in an array\n",
        "print(sol)\n",
        "\n",
        "#For a particular domain:\n",
        "sol2 = smp.solveset(f,x,domain=smp.Interval(0,5))  #Use solveset for different types of domain, smp.Interval()/S.Real/S.Integers e.t.c\n",
        "print(\"For 0<x<10, Solutions: \", sol2)   #sol2 is returned as a set.\n",
        "\n",
        "#We may have imaginary solutions and we can filter them out:\n",
        "g = x**3 - 2*x**2 + 2*x - 1 #This is a quartic polynomial with both real and complex solutions\n",
        "\n",
        "solR = smp.solveset(g, x, domain=S.Reals) #Stores the real solution\n",
        "solI = smp.solveset(g, x, domain=S.Complexes) #Stores the imaginary solution\n",
        "\n",
        "print(\"The function, g(x) =\", g)\n",
        "print(\"Real solutions: x_R = \", solR)\n",
        "print(\"Complex solutions: x_I = \", solI)\n",
        "\n",
        "#We see the solution that is just a real number is also present in the set of Complex solutions.\n",
        "#This is because all real numbers exists in the set of Complex numbers.\n"
      ],
      "metadata": {
        "id": "r8QI93Tq9Kn3",
        "colab": {
          "base_uri": "https://localhost:8080/"
        },
        "outputId": "ddbddce8-c82b-4942-fa8b-e64fbdfb01ba"
      },
      "execution_count": null,
      "outputs": [
        {
          "output_type": "stream",
          "name": "stdout",
          "text": [
            "[-2, 1]\n",
            "For 0<x<10, Solutions:  {1}\n",
            "The function, g(x) = x**3 - 2*x**2 + 2*x - 1\n",
            "Real solutions: x_R =  {1}\n",
            "Complex solutions: x_I =  {1, 1/2 - sqrt(3)*I/2, 1/2 + sqrt(3)*I/2}\n"
          ]
        }
      ]
    },
    {
      "cell_type": "markdown",
      "source": [
        "##02. Differentiation"
      ],
      "metadata": {
        "id": "Ymr_cUf86n8R"
      }
    },
    {
      "cell_type": "code",
      "source": [
        "#FINITE DIFFERENCE\n",
        "\n",
        "def deriv(expr, a):\n",
        "  h = smp.symbols('h')\n",
        "  expr = smp.lambdify(x,expr)\n",
        "\n",
        "  derv = (expr(a + h) - expr(a))/h    #Fundamental Theorem\n",
        "  return(smp.limit(derv,h,0))\n",
        "\n",
        "x = smp.symbols('x')\n",
        "f = x**2\n",
        "a = 2\n",
        "\n",
        "print(smp.Derivative(f,x), '=' , deriv(f, a))\n",
        "print()\n",
        "#or you can use display() to show d/dx explicitly\n",
        "display(smp.Derivative(f,x))\n",
        "print('=', deriv(f, a))\n",
        "print()\n",
        "\n",
        "#diff(): You can use diff() function from sympy to find derivatives of expressions\n",
        "print('Our expression: f(x) = ', f)\n",
        "df = smp.diff(f)\n",
        "print('Derivative using sympy.diff(), df =', df)\n",
        "print('Evaulating at x = a, df(a) = ', df.subs(x, a))"
      ],
      "metadata": {
        "colab": {
          "base_uri": "https://localhost:8080/",
          "height": 173
        },
        "id": "MM2BXj2M7KaJ",
        "outputId": "66f27c89-f244-48be-9d46-595e6bd71db1"
      },
      "execution_count": null,
      "outputs": [
        {
          "output_type": "stream",
          "name": "stdout",
          "text": [
            "Derivative(x**2, x) = 4\n",
            "\n"
          ]
        },
        {
          "output_type": "display_data",
          "data": {
            "text/plain": [
              "Derivative(x**2, x)"
            ],
            "text/latex": "$\\displaystyle \\frac{d}{d x} x^{2}$"
          },
          "metadata": {}
        },
        {
          "output_type": "stream",
          "name": "stdout",
          "text": [
            "= 4\n",
            "\n",
            "Our expression: f(x) =  x**2\n",
            "Derivative using sympy.diff(), df = 2*x\n",
            "Evaulating at x = a, df(a) =  4\n"
          ]
        }
      ]
    },
    {
      "cell_type": "markdown",
      "source": [
        "##03. For Practice\n",
        "\n",
        "Consider the function\n",
        "$f(x) = x^3 - 4x^2 + 3x + 2$:\n",
        "\n",
        "\n",
        "1.   Find a root (zero) of the function within the interval $[1,3]$.\n",
        "2.   Differentiate the function $f(x)$ with respect to $x$.\n",
        "3.   Find all real roots of the derivative function."
      ],
      "metadata": {
        "id": "nXGtub1u7Kp5"
      }
    }
  ]
}