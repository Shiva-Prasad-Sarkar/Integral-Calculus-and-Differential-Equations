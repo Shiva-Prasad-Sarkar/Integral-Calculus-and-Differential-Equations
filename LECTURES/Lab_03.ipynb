{
  "nbformat": 4,
  "nbformat_minor": 0,
  "metadata": {
    "colab": {
      "provenance": []
    },
    "kernelspec": {
      "name": "python3",
      "display_name": "Python 3"
    },
    "language_info": {
      "name": "python"
    }
  },
  "cells": [
    {
      "cell_type": "code",
      "execution_count": null,
      "metadata": {
        "id": "uzucd-voGf_a"
      },
      "outputs": [],
      "source": [
        "import sympy as sp\n",
        "import numpy as np\n",
        "from scipy.integrate import quad"
      ]
    },
    {
      "cell_type": "code",
      "source": [
        "x = sp.symbols('x')"
      ],
      "metadata": {
        "id": "PK_Hc0nAHSVi"
      },
      "execution_count": null,
      "outputs": []
    },
    {
      "cell_type": "markdown",
      "source": [
        "#01. Definite and indefinite integrals using sympy:\n",
        "\n",
        "The sympy library contains a method .integrate() which can be used to integrate expressions with respect to its symbols. Moreover, .Integral() can be used to display the integrand with the integration symbol.\n"
      ],
      "metadata": {
        "id": "HS8lsHanG2qE"
      }
    },
    {
      "cell_type": "code",
      "source": [
        "#Indefinite integrals:\n",
        "\n",
        "print('Indefinite:')\n",
        "\n",
        "fdx = sp.exp(-x)*(x**2)*sp.cos(x) #This is the integrand\n",
        "\n",
        "f = sp.integrate(fdx, x)  #sympy.integrate(expression, symbol)\n",
        "sol_integral = sp.Eq(sp.Integral(fdx, x),f)\n",
        "display(sol_integral)\n",
        "print(\"After simplification:\")\n",
        "sol_integral = sp.Eq(sp.Integral(fdx, x),f.simplify())  #expression.simplify() will simplify the expression\n",
        "display(sol_integral)\n",
        "\n",
        "#Definite integrals:\n",
        "\n",
        "print('Definite:')\n",
        "\n",
        "F = sp.integrate(fdx, (x,0,5))\n",
        "sol_area = sp.Eq(sp.Integral(fdx, (x,0,5)),F)\n",
        "display(sol_area)\n",
        "print('= ', F.evalf())"
      ],
      "metadata": {
        "colab": {
          "base_uri": "https://localhost:8080/",
          "height": 231
        },
        "id": "oy2ODM6xG2RU",
        "outputId": "360904bd-42eb-4004-91fd-270f15414e03"
      },
      "execution_count": null,
      "outputs": [
        {
          "output_type": "stream",
          "name": "stdout",
          "text": [
            "Indefinite:\n"
          ]
        },
        {
          "output_type": "display_data",
          "data": {
            "text/plain": [
              "Eq(Integral(x**2*exp(-x)*cos(x), x), x**2*exp(-x)*sin(x)/2 - x**2*exp(-x)*cos(x)/2 + x*exp(-x)*sin(x) + exp(-x)*sin(x)/2 + exp(-x)*cos(x)/2)"
            ],
            "text/latex": "$\\displaystyle \\int x^{2} e^{- x} \\cos{\\left(x \\right)}\\, dx = \\frac{x^{2} e^{- x} \\sin{\\left(x \\right)}}{2} - \\frac{x^{2} e^{- x} \\cos{\\left(x \\right)}}{2} + x e^{- x} \\sin{\\left(x \\right)} + \\frac{e^{- x} \\sin{\\left(x \\right)}}{2} + \\frac{e^{- x} \\cos{\\left(x \\right)}}{2}$"
          },
          "metadata": {}
        },
        {
          "output_type": "stream",
          "name": "stdout",
          "text": [
            "After simplification:\n"
          ]
        },
        {
          "output_type": "display_data",
          "data": {
            "text/plain": [
              "Eq(Integral(x**2*exp(-x)*cos(x), x), sqrt(2)*(-x**2*cos(x + pi/4) + x*sin(x + pi/4) - x*cos(x + pi/4) + sin(x + pi/4))*exp(-x)/2)"
            ],
            "text/latex": "$\\displaystyle \\int x^{2} e^{- x} \\cos{\\left(x \\right)}\\, dx = \\frac{\\sqrt{2} \\left(- x^{2} \\cos{\\left(x + \\frac{\\pi}{4} \\right)} + x \\sin{\\left(x + \\frac{\\pi}{4} \\right)} - x \\cos{\\left(x + \\frac{\\pi}{4} \\right)} + \\sin{\\left(x + \\frac{\\pi}{4} \\right)}\\right) e^{- x}}{2}$"
          },
          "metadata": {}
        },
        {
          "output_type": "stream",
          "name": "stdout",
          "text": [
            "Definite:\n"
          ]
        },
        {
          "output_type": "display_data",
          "data": {
            "text/plain": [
              "Eq(Integral(x**2*exp(-x)*cos(x), (x, 0, 5)), -1/2 + 18*exp(-5)*sin(5) - 12*exp(-5)*cos(5))"
            ],
            "text/latex": "$\\displaystyle \\int\\limits_{0}^{5} x^{2} e^{- x} \\cos{\\left(x \\right)}\\, dx = - \\frac{1}{2} + \\frac{18 \\sin{\\left(5 \\right)}}{e^{5}} - \\frac{12 \\cos{\\left(5 \\right)}}{e^{5}}$"
          },
          "metadata": {}
        },
        {
          "output_type": "stream",
          "name": "stdout",
          "text": [
            "=  -0.639236866154252\n"
          ]
        }
      ]
    },
    {
      "cell_type": "markdown",
      "source": [
        "#02. Definite integrals using scipy.integrate:\n",
        "\n",
        "We can solve more complicated definite using the method .quad() from the library scipy.integrate. This method uses Gaussian Quadrature technique to solve integrals numerically."
      ],
      "metadata": {
        "id": "as0_5x5EJ60X"
      }
    },
    {
      "cell_type": "code",
      "source": [
        "expr = sp.sin(x)\n",
        "\n",
        "# Convert SymPy expression to a numerical function\n",
        "f = sp.lambdify(x, expr)\n",
        "\n",
        "a = 0  # Lower limit of integration\n",
        "b = np.pi  # Upper limit of integration\n",
        "\n",
        "solq = quad(f, a, b)  #The solution is returned as tuple that includes the estimated error.\n",
        "print('The solution is returned as tuple', solq)\n",
        "\n",
        "# Perform numerical integration using quad()\n",
        "result, error = quad(f, a, b)  #We can separate each element and place it in respective variables.\n",
        "\n",
        "print(\"Approximate value of the integral:\", result)\n",
        "print(\"Estimate of the error:\", error)"
      ],
      "metadata": {
        "colab": {
          "base_uri": "https://localhost:8080/"
        },
        "id": "ELyuwKKtKDBt",
        "outputId": "4529e820-1636-4541-bb6f-87a7ac53d4cf"
      },
      "execution_count": null,
      "outputs": [
        {
          "output_type": "stream",
          "name": "stdout",
          "text": [
            "The solution is returned as tuple (2.0, 2.220446049250313e-14)\n",
            "Approximate value of the integral: 2.0\n",
            "Estimate of the error: 2.220446049250313e-14\n"
          ]
        }
      ]
    },
    {
      "cell_type": "markdown",
      "source": [
        "#03. Numerical Integration:\n",
        "##a) Trapezoidal Rule\n",
        "\n",
        "The Trapezoidal Rule is a numerical method for approximating definite integrals. It works by approximating the area under a curve using trapezoids. The rule states that if we divide the interval [a, b] into n equally spaced subintervals, the definite integral of a function f(x) can be approximated as the sum of the areas of these trapezoids."
      ],
      "metadata": {
        "id": "sh_5sNXnMD8e"
      }
    },
    {
      "cell_type": "code",
      "source": [
        "def trapezoidal_rule(f, a, b, n):\n",
        "\n",
        "    expr = sp.lambdify(x, f)  # Convert SymPy expression to a numerical function. expr(x)\n",
        "\n",
        "    h = (b - a) / n\n",
        "    sum = 0.5 * (expr(a) + expr(b))  # Add the first and last terms\n",
        "\n",
        "    for i in range(1, n):\n",
        "        x_i = a + i * h\n",
        "        sum += expr(x_i)\n",
        "\n",
        "    return sum * h\n",
        "\n",
        "# Example usage\n",
        "hdx = sp.sin(x)  # Define the function to be integrated\n",
        "\n",
        "a = 0  # Lower limit of integration\n",
        "b = np.pi  # Upper limit of integration\n",
        "n = 1000  # Number of subintervals\n",
        "\n",
        "# Perform numerical integration using the Trapezoidal Rule\n",
        "h = trapezoidal_rule(hdx, a, b, n)\n",
        "\n",
        "display(sp.Integral(hdx, (x, a, sp.pi)))\n",
        "print(\"Approximate value of the integral:\")\n",
        "display(h)"
      ],
      "metadata": {
        "colab": {
          "base_uri": "https://localhost:8080/",
          "height": 112
        },
        "id": "7EN-op3lL1Ls",
        "outputId": "657e05f0-5fa9-4b45-b702-1a5b171a4271"
      },
      "execution_count": null,
      "outputs": [
        {
          "output_type": "display_data",
          "data": {
            "text/plain": [
              "Integral(sin(x), (x, 0, pi))"
            ],
            "text/latex": "$\\displaystyle \\int\\limits_{0}^{\\pi} \\sin{\\left(x \\right)}\\, dx$"
          },
          "metadata": {}
        },
        {
          "output_type": "stream",
          "name": "stdout",
          "text": [
            "Approximate value of the integral:\n"
          ]
        },
        {
          "output_type": "display_data",
          "data": {
            "text/plain": [
              "1.9999983550656624"
            ]
          },
          "metadata": {}
        }
      ]
    },
    {
      "cell_type": "markdown",
      "source": [
        "##b) Monte Carlo Method\n",
        "\n",
        "The Monte Carlo method is a another useful technique to evaulate definite integrals in the interval $[a,b]$. This method involves generating N number of random values $x_i$ and evaluate $f(x_i)$. These heights multiplied with $(b-a)$ will the total area of the rectangles. Dividing this with the total number of rectangles, N, give us the average area of the rectangles which can be a good approximation of the area under the curve $f(x)$."
      ],
      "metadata": {
        "id": "TDJ0338qMNSD"
      }
    },
    {
      "cell_type": "code",
      "source": [
        "#RANDOM NUMBER GENERATOR:\n",
        "\n",
        "rF = np.random.rand(5)   #5 random floating point values from 0 to 1\n",
        "rI = np.random.randint(0,10,10)   #Random Integer values from 0 to 10 (10 values)\n",
        "rG = np.random.randn(5) #5 random values from Gaussian Normal Distribution with mean 0 and standard deviation 1.\n",
        "rU = np.random.uniform(1,10,10) #Random values between 1 to 10 (10 values)\n",
        "print('Random Floating point values, rF = ', rF)\n",
        "print('Random Integer point values, rI = ', rI)\n",
        "print('Random values with mean 0 and standard deviation 1, rG = ', rF)\n",
        "print('Random values from 1 to 10, rU =', rU)"
      ],
      "metadata": {
        "id": "mN6clJDtMQOE",
        "colab": {
          "base_uri": "https://localhost:8080/"
        },
        "outputId": "40b84c91-9f53-4762-f75d-0e8c37f52e33"
      },
      "execution_count": null,
      "outputs": [
        {
          "output_type": "stream",
          "name": "stdout",
          "text": [
            "Random Floating point values, rF =  [0.89341391 0.26286199 0.57858233 0.6623603  0.40746825]\n",
            "Random Integer point values, rI =  [9 9 9 5 6 3 6 6 3 2]\n",
            "Random values with mean 0 and standard deviation 1, rG =  [0.89341391 0.26286199 0.57858233 0.6623603  0.40746825]\n",
            "Random values from 1 to 10, rU = [2.78676111 9.90227869 4.62096283 6.71791482 4.70842097 4.8422376\n",
            " 4.33594094 4.41713091 6.45237315 6.63031403]\n"
          ]
        }
      ]
    },
    {
      "cell_type": "code",
      "source": [
        "#The method:\n",
        "\n",
        "def MC(f,a,b,N):\n",
        "\n",
        "  sum = 0                 #This will be the sum of all the values y\n",
        "  r = (b-a)/N\n",
        "\n",
        "  for i in range(0,N):\n",
        "    x_i = np.random.uniform(a,b)       #Generating random value for x\n",
        "    sum += f.subs(x,x_i)\n",
        "\n",
        "  sol = r*sum         #Using the formula for mean\n",
        "\n",
        "  display(sp.Integral(f,(x,a,b)))\n",
        "  print('= ', sol)\n",
        "\n",
        "\n",
        "fdx = sp.sin(x)  # Define the function to be integrated\n",
        "\n",
        "a = 0  # Lower limit of integration\n",
        "b = np.pi  # Upper limit of integration\n",
        "N = 10000\n",
        "\n",
        "MC(fdx,a,b,N)"
      ],
      "metadata": {
        "colab": {
          "base_uri": "https://localhost:8080/",
          "height": 97
        },
        "id": "ht-SqZMhDqZo",
        "outputId": "485ce0d2-b2cf-4b75-b09c-9ab44090d0da"
      },
      "execution_count": null,
      "outputs": [
        {
          "output_type": "display_data",
          "data": {
            "text/plain": [
              "Integral(sin(x), (x, 0, 3.14159265358979))"
            ],
            "text/latex": "$\\displaystyle \\int\\limits_{0}^{3.14159265358979} \\sin{\\left(x \\right)}\\, dx$"
          },
          "metadata": {}
        },
        {
          "output_type": "stream",
          "name": "stdout",
          "text": [
            "=  2.00862857048394\n"
          ]
        }
      ]
    },
    {
      "cell_type": "markdown",
      "source": [
        "Another way to compute the integral is to make a geometric approximation of the integral. Indeed, by using uniform random draws over both x and y axes, we map a 2D rectangle that correspond to the desired range $[x_{min} ; x_{max}]$ and compute the ratio of points under the curve over the total points drawn in the rectangle. This ratio would converge to the area under the curve with N, the number of draws."
      ],
      "metadata": {
        "id": "MhivwerB6n1P"
      }
    },
    {
      "cell_type": "code",
      "source": [
        "def MC2(f,a,b,N):\n",
        "  y = sp.lambdify(x,f)    #Lambdifying expression to get y values\n",
        "  d = np.linspace(a,b,N)  #Creating N values x between a and b\n",
        "  cnt = 0                 #This will be the counter for values within integrating region\n",
        "\n",
        "  for i in range(0,N):\n",
        "    rx = np.random.uniform(a,b)     #Random value for x\n",
        "    ry = np.random.uniform(0, y(d).max())  #Random value for y\n",
        "\n",
        "    if ry <= y(rx):    #Checking if (rx, ry) falls under the curve\n",
        "      cnt += 1\n",
        "\n",
        "  total_area = (b-a)*y(d).max()\n",
        "\n",
        "  result = cnt/N * total_area      #Using ratio to get the required area\n",
        "\n",
        "  display(sp.Integral(f,(x,a,b)))\n",
        "  print('= ', result)\n",
        "\n",
        "\n",
        "fdx = sp.sin(x)  # Define the function to be integrated\n",
        "\n",
        "a = 0  # Lower limit of integration\n",
        "b = np.pi  # Upper limit of integration\n",
        "N = 10000\n",
        "\n",
        "MC2(fdx,a,b,N)"
      ],
      "metadata": {
        "id": "cL7ZOL6Q613W",
        "colab": {
          "base_uri": "https://localhost:8080/",
          "height": 97
        },
        "outputId": "85ceb6ea-2918-46e7-cb45-262780aaf565"
      },
      "execution_count": null,
      "outputs": [
        {
          "output_type": "display_data",
          "data": {
            "text/plain": [
              "Integral(sin(x), (x, 0, 3.14159265358979))"
            ],
            "text/latex": "$\\displaystyle \\int\\limits_{0}^{3.14159265358979} \\sin{\\left(x \\right)}\\, dx$"
          },
          "metadata": {}
        },
        {
          "output_type": "stream",
          "name": "stdout",
          "text": [
            "=  2.0005661771200476\n"
          ]
        }
      ]
    },
    {
      "cell_type": "markdown",
      "source": [
        "#04. For Practice:\n",
        "##This problem involves both differentiation and integration. For the integration part, try out all the methods.\n",
        "\n",
        "For the function $f(x) = e^x \\sin(x) - \\frac{x^2}{2}$ in $-1 \\leq x \\leq 3$:\n",
        "\n",
        "a) Find the maximum value within the interval. (Hint: Find out the stationary points to get the maxima and minima.)\n",
        "\n",
        "b) Find the indefinite integral using sympy.\n",
        "\n",
        "c) Evaluate the area under the curve in the given domain. Try out all the methods for integration.\n",
        "\n",
        "\n",
        "\n"
      ],
      "metadata": {
        "id": "gTrTVWMDl-X_"
      }
    }
  ]
}